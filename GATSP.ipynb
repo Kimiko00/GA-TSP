{
  "nbformat": 4,
  "nbformat_minor": 0,
  "metadata": {
    "colab": {
      "name": "GATSP.ipynb",
      "provenance": [],
      "collapsed_sections": [],
      "authorship_tag": "ABX9TyObAWbGt6qnGVqAwURx0wCB",
      "include_colab_link": true
    },
    "kernelspec": {
      "name": "python3",
      "display_name": "Python 3"
    }
  },
  "cells": [
    {
      "cell_type": "markdown",
      "metadata": {
        "id": "view-in-github",
        "colab_type": "text"
      },
      "source": [
        "<a href=\"https://colab.research.google.com/github/Kimiko00/GA-TSP/blob/main/GATSP.ipynb\" target=\"_parent\"><img src=\"https://colab.research.google.com/assets/colab-badge.svg\" alt=\"Open In Colab\"/></a>"
      ]
    },
    {
      "cell_type": "code",
      "metadata": {
        "id": "_fybd6UP-W_m"
      },
      "source": [
        "import pandas as pd\n",
        "import numpy as np\n",
        "import matplotlib.pyplot as plt\n",
        "import random\n",
        "from array import *\n",
        "import operator"
      ],
      "execution_count": null,
      "outputs": []
    },
    {
      "cell_type": "code",
      "metadata": {
        "id": "HykdJVmh-YST"
      },
      "source": [
        "from google.colab import files\n",
        "files.upload()"
      ],
      "execution_count": null,
      "outputs": []
    },
    {
      "cell_type": "code",
      "metadata": {
        "id": "FjwU1fZ_-d-A",
        "colab": {
          "base_uri": "https://localhost:8080/",
          "height": 153
        },
        "outputId": "57967525-ec78-4fc0-f65c-131a0f15f6ab"
      },
      "source": [
        "# dataframe = pd.read_csv('berlin52.csv')\n",
        "# daftarKota = dataframe.values.tolist()\n",
        "\n",
        "# for i in daftarKota:\n",
        "#   for j in i:\n",
        "#     print(j, end=\" \")\n",
        "#   print()\n",
        "\n",
        "# jumlahKota = len(daftarKota)\n",
        "# print(jumlahKota)\n",
        "\n",
        "\n",
        "daftarKota = [[20,2], [15,2], [35, 1], [40,1], [15,1], [15,1], [10,1]]\n",
        "for i in daftarKota:\n",
        "    for j in i:\n",
        "        print(j,end = \" \")\n",
        "    print()\n",
        "\n",
        "jumlahKota =  len(daftarKota)   \n",
        "print(jumlahKota)"
      ],
      "execution_count": null,
      "outputs": [
        {
          "output_type": "stream",
          "text": [
            "20 2 \n",
            "15 2 \n",
            "35 1 \n",
            "40 1 \n",
            "15 1 \n",
            "15 1 \n",
            "10 1 \n",
            "7\n"
          ],
          "name": "stdout"
        }
      ]
    },
    {
      "cell_type": "code",
      "metadata": {
        "id": "jS1UdFOG_VG3",
        "colab": {
          "base_uri": "https://localhost:8080/",
          "height": 357
        },
        "outputId": "7d2e0a55-9d93-462f-900c-dcc75f59bf59"
      },
      "source": [
        "def initPopulasi(ukuranPopulasi,jumlahKota):\n",
        "  P = np.empty((ukuranPopulasi,jumlahKota))\n",
        "  P = P.astype('int')\n",
        "  for i in range(ukuranPopulasi):\n",
        "    I = np.random.permutation(jumlahKota)\n",
        "    for j in range(jumlahKota):\n",
        "      P[i][j]=I[j]\n",
        "  return P\n",
        "\n",
        "\n",
        "ukuranPopulasi = 20\n",
        "P = initPopulasi (ukuranPopulasi,jumlahKota)\n",
        "print(P)"
      ],
      "execution_count": null,
      "outputs": [
        {
          "output_type": "stream",
          "text": [
            "[[0 4 6 1 2 5 3]\n",
            " [4 1 3 0 5 6 2]\n",
            " [4 0 2 1 6 3 5]\n",
            " [3 4 2 5 6 1 0]\n",
            " [2 6 5 0 3 4 1]\n",
            " [2 0 5 6 4 3 1]\n",
            " [0 4 1 3 2 5 6]\n",
            " [0 6 1 4 2 3 5]\n",
            " [5 3 6 0 1 4 2]\n",
            " [4 3 1 0 6 2 5]\n",
            " [2 5 0 4 3 1 6]\n",
            " [2 0 6 5 3 4 1]\n",
            " [0 1 6 4 3 5 2]\n",
            " [4 0 3 5 2 6 1]\n",
            " [6 1 5 2 3 4 0]\n",
            " [4 5 6 2 0 3 1]\n",
            " [0 3 1 2 5 6 4]\n",
            " [1 5 3 4 0 6 2]\n",
            " [4 5 1 3 0 6 2]\n",
            " [1 4 3 6 0 5 2]]\n"
          ],
          "name": "stdout"
        }
      ]
    },
    {
      "cell_type": "code",
      "metadata": {
        "id": "Kj3ot4Wh_txF",
        "colab": {
          "base_uri": "https://localhost:8080/",
          "height": 85
        },
        "outputId": "1888b26e-139e-4c22-f0d9-1dc8cdc612e1"
      },
      "source": [
        "def fungsiObjectif(populasi,daftarKota):\n",
        "  sz = populasi.shape\n",
        "  ukuranPopulasi = sz[0]\n",
        "  jumlahKota = sz[1]\n",
        "\n",
        "  matrikJarak = np.empty((ukuranPopulasi))\n",
        "  matrikJarak  = matrikJarak.astype('float')\n",
        "  n = len(daftarKota)\n",
        "\n",
        "  for i in range(ukuranPopulasi):\n",
        "    jarak = 0\n",
        "    for j in range(n-1):\n",
        "      jrkX = daftarKota[populasi[i][j]][0]-daftarKota[populasi[i][j+1]][0]\n",
        "      jrkY = daftarKota[populasi[i][j]][1]-daftarKota[populasi[i][j+1]][1]\n",
        "      d = np.sqrt(jrkX**2 + jrkY**2 )   \n",
        "      jarak = jarak  + d\n",
        "      \n",
        "    dn =  np.sqrt((daftarKota[populasi[i][n-1]][0]-daftarKota[populasi[i][0]][0])**2+ (daftarKota[populasi[i][n-1]][1]-daftarKota[populasi[i][0]][1])**2 )\n",
        "    jarak = jarak  + dn\n",
        "    matrikJarak[i] = jarak\n",
        "\n",
        "  return matrikJarak\n",
        "\n",
        "fitP = fungsiObjectif(P,daftarKota)\n",
        "print(fitP)"
      ],
      "execution_count": null,
      "outputs": [
        {
          "output_type": "stream",
          "text": [
            "[100.24800782 101.14399591 100.2563198  100.12400391 101.1489883\n",
            " 100.17729229  71.16888714  71.24791465 111.04987562 110.06986763\n",
            " 110.31705055 101.10815639 100.13231589 101.22302342  71.24791465\n",
            "  91.07827278 100.16898031 111.17387953 101.09485202 111.17387953]\n"
          ],
          "name": "stdout"
        }
      ]
    },
    {
      "cell_type": "code",
      "metadata": {
        "id": "Zhp9gEao_w29",
        "colab": {
          "base_uri": "https://localhost:8080/",
          "height": 51
        },
        "outputId": "20f06607-7130-48ca-a5c4-5f1be84de4d7"
      },
      "source": [
        "def seleksi (P,fsObj):\n",
        "  jmlInduk = 2\n",
        "  sz = P.shape\n",
        "  ukuranPopulasi = sz[0]\n",
        "  jumlahKota = sz[1]\n",
        "\n",
        "  Induk = np.empty((jmlInduk,jumlahKota))\n",
        "  Induk = Induk.astype('int')\n",
        "  \n",
        "  for i in range (2):\n",
        "    # memilih dua individu secara acak \n",
        "    r1 = random.randint(0,ukuranPopulasi-1)\n",
        "    r2 = random.randint(0,ukuranPopulasi-1)\n",
        "    \n",
        "    if  fsObj[r1] < fsObj [r2]:\n",
        "      for j in range(jumlahKota):\n",
        "        Induk [i][j] = P[r1][j]\n",
        "    else:\n",
        "      for j in range(jumlahKota):\n",
        "        Induk [i][j] = P[r2][j]\n",
        "  return Induk\n",
        "\n",
        "Induk = seleksi(P,fitP)\n",
        "print(Induk)"
      ],
      "execution_count": null,
      "outputs": [
        {
          "output_type": "stream",
          "text": [
            "[[3 4 2 5 6 1 0]\n",
            " [2 0 6 5 3 4 1]]\n"
          ],
          "name": "stdout"
        }
      ]
    },
    {
      "cell_type": "code",
      "metadata": {
        "id": "WxeY95ngSmk-",
        "colab": {
          "base_uri": "https://localhost:8080/",
          "height": 51
        },
        "outputId": "02d643a5-c900-440b-c31e-352b4fdd0230"
      },
      "source": [
        "def PMX(Induk):\n",
        "  sz = Induk.shape\n",
        "  brs = sz[0]\n",
        "  kol = sz[1]\n",
        "  #print(sz, brs, kol)\n",
        "\n",
        "  Anak = np.empty((2,kol))\n",
        "  Anak = Anak.astype('int')\n",
        "\n",
        "  r1 = random.randint(1,kol-2)\n",
        "\n",
        "  for i0 in range(r1): \n",
        "\n",
        "    Anak [0][i0] = Induk[0][i0]\n",
        "    Anak [1][i0] = Induk[1][i0]\n",
        "\n",
        "  batasCek1 = r1\n",
        "  batasCek2 = r1\n",
        "\n",
        "  for i in range(kol):\n",
        "    m = (i+r1)%kol\n",
        "\n",
        "    n1 = Induk[0][i] \n",
        "    n2 = Induk[1][i]\n",
        "\n",
        "    #mengecek apakah kota tertentu sudah ada di anak\n",
        "    idxAda1 = 0\n",
        "    idxAda2 = 0\n",
        "    for j1 in range(batasCek1): \n",
        "      \n",
        "      if batasCek1>(kol-1):\n",
        "        idxAda1 = 1\n",
        "\n",
        "      if Anak [0][j1] ==n2: \n",
        "        idxAda1 = 1\n",
        "            \n",
        "    for j2 in range(batasCek2): \n",
        "      \n",
        "      if batasCek2>(kol-1):\n",
        "        idxAda2 = 1\n",
        "\n",
        "      if Anak [1][i0]  == n1: \n",
        "        idxAda2 = 1\n",
        "\n",
        "    if idxAda1 == 0:\n",
        "      Anak[0][batasCek1] = n2\n",
        "      batasCek1 = batasCek1 +1\n",
        "   \n",
        "    if idxAda2 == 0:\n",
        "      Anak[1][batasCek2] = n1\n",
        "      batasCek2 = batasCek2 +1\n",
        "   \n",
        "  return Anak\n",
        "\n",
        "AnakCX = PMX(Induk)\n",
        "print(\"Anak :\",AnakCX)"
      ],
      "execution_count": null,
      "outputs": [
        {
          "output_type": "stream",
          "text": [
            "Anak : [[3 2 0 6 5 4 1]\n",
            " [2 3 4 5 6 1 0]]\n"
          ],
          "name": "stdout"
        }
      ]
    },
    {
      "cell_type": "code",
      "metadata": {
        "id": "FUCnCKkHSxEN",
        "colab": {
          "base_uri": "https://localhost:8080/",
          "height": 85
        },
        "outputId": "929be846-53e0-41cf-c1a6-d7b74500422d"
      },
      "source": [
        "def MutasiSwap(Induk):\n",
        "  sz = Induk.shape\n",
        "  brs = sz[0]\n",
        "  kol = sz[1]\n",
        "\n",
        "  Anak = np.empty((2,kol))\n",
        "  Anak = Anak.astype('int')\n",
        "\n",
        "  Anak = Induk\n",
        "\n",
        "  r1 = random.randint(0,kol-1)\n",
        "  r2 = random.randint(0,kol-1)\n",
        "\n",
        "  while r1 == r2:\n",
        "    r2 = random.randint(0,kol-1)\n",
        "\n",
        "  I1rs1 = Induk [0][r1]\n",
        "  I1rs2 = Induk [0][r2]\n",
        "  I2rs1 = Induk [1][r1]\n",
        "  I2rs2 = Induk [1][r2] \n",
        "\n",
        "  Anak [0][r1] = I1rs2\n",
        "  Anak [0][r2] = I1rs1\n",
        "  Anak [1][r1] = I2rs2  \n",
        "  Anak [1][r2] = I2rs1\n",
        "\n",
        "  return Anak\n",
        "\n",
        "print(\"AnakCX :\",AnakCX)\n",
        "AnakM = MutasiSwap(AnakCX)\n",
        "print(\"AnakM :\",AnakM)"
      ],
      "execution_count": null,
      "outputs": [
        {
          "output_type": "stream",
          "text": [
            "AnakCX : [[3 2 0 6 5 4 1]\n",
            " [2 3 4 5 6 1 0]]\n",
            "AnakM : [[5 2 0 6 3 4 1]\n",
            " [6 3 4 5 2 1 0]]\n"
          ],
          "name": "stdout"
        }
      ]
    },
    {
      "cell_type": "code",
      "metadata": {
        "id": "cx-b2aAlXn7H",
        "colab": {
          "base_uri": "https://localhost:8080/",
          "height": 952
        },
        "outputId": "ac65303c-e05c-489a-d6e9-58c03baa7b8d"
      },
      "source": [
        "def Elitism(P,Anak,fitP,fitAnak):\n",
        "  szP = P.shape\n",
        "  brsP = szP[0]\n",
        "  kolP = szP[1]\n",
        "  szA = Anak.shape\n",
        "  brsA = szA[0]\n",
        "  kolA = szA[1]\n",
        "\n",
        "  #print (fitP)\n",
        "  for i in range(brsA):\n",
        "    iJelek = fitP.max()\n",
        "    idxJelek = fitP.argmax()\n",
        "\n",
        "    if fitAnak[i]<iJelek:\n",
        "      fitP[idxJelek] = fitAnak[i]\n",
        "      for j in range (kolP):\n",
        "        P[idxJelek][j] = Anak[i][j]\n",
        "\n",
        "  return [P,fitP]\n",
        "\n",
        "fitAnak= fungsiObjectif(AnakM,daftarKota)\n",
        "print(P)\n",
        "print(AnakM)\n",
        "print(fitP)\n",
        "print(fitAnak)\n",
        "P = Elitism (P,AnakM,fitP,fitAnak)\n",
        "print(P)\n",
        "print(fitP)"
      ],
      "execution_count": null,
      "outputs": [
        {
          "output_type": "stream",
          "text": [
            "[[0 4 6 1 2 5 3]\n",
            " [4 1 3 0 5 6 2]\n",
            " [4 0 2 1 6 3 5]\n",
            " [3 4 2 5 6 1 0]\n",
            " [2 6 5 0 3 4 1]\n",
            " [2 0 5 6 4 3 1]\n",
            " [0 4 1 3 2 5 6]\n",
            " [0 6 1 4 2 3 5]\n",
            " [5 3 6 0 1 4 2]\n",
            " [4 3 1 0 6 2 5]\n",
            " [2 5 0 4 3 1 6]\n",
            " [2 0 6 5 3 4 1]\n",
            " [0 1 6 4 3 5 2]\n",
            " [4 0 3 5 2 6 1]\n",
            " [6 1 5 2 3 4 0]\n",
            " [4 5 6 2 0 3 1]\n",
            " [0 3 1 2 5 6 4]\n",
            " [1 5 3 4 0 6 2]\n",
            " [4 5 1 3 0 6 2]\n",
            " [1 4 3 6 0 5 2]]\n",
            "[[5 2 0 6 3 4 1]\n",
            " [6 3 4 5 2 1 0]]\n",
            "[100.24800782 101.14399591 100.2563198  100.12400391 101.1489883\n",
            " 100.17729229  71.16888714  71.24791465 111.04987562 110.06986763\n",
            " 110.31705055 101.10815639 100.13231589 101.22302342  71.24791465\n",
            "  91.07827278 100.16898031 111.17387953 101.09485202 111.17387953]\n",
            "[102.083172   110.07486002]\n",
            "[array([[0, 4, 6, 1, 2, 5, 3],\n",
            "       [4, 1, 3, 0, 5, 6, 2],\n",
            "       [4, 0, 2, 1, 6, 3, 5],\n",
            "       [3, 4, 2, 5, 6, 1, 0],\n",
            "       [2, 6, 5, 0, 3, 4, 1],\n",
            "       [2, 0, 5, 6, 4, 3, 1],\n",
            "       [0, 4, 1, 3, 2, 5, 6],\n",
            "       [0, 6, 1, 4, 2, 3, 5],\n",
            "       [5, 3, 6, 0, 1, 4, 2],\n",
            "       [4, 3, 1, 0, 6, 2, 5],\n",
            "       [2, 5, 0, 4, 3, 1, 6],\n",
            "       [2, 0, 6, 5, 3, 4, 1],\n",
            "       [0, 1, 6, 4, 3, 5, 2],\n",
            "       [4, 0, 3, 5, 2, 6, 1],\n",
            "       [6, 1, 5, 2, 3, 4, 0],\n",
            "       [4, 5, 6, 2, 0, 3, 1],\n",
            "       [0, 3, 1, 2, 5, 6, 4],\n",
            "       [5, 2, 0, 6, 3, 4, 1],\n",
            "       [4, 5, 1, 3, 0, 6, 2],\n",
            "       [6, 3, 4, 5, 2, 1, 0]]), array([100.24800782, 101.14399591, 100.2563198 , 100.12400391,\n",
            "       101.1489883 , 100.17729229,  71.16888714,  71.24791465,\n",
            "       111.04987562, 110.06986763, 110.31705055, 101.10815639,\n",
            "       100.13231589, 101.22302342,  71.24791465,  91.07827278,\n",
            "       100.16898031, 102.083172  , 101.09485202, 110.07486002])]\n",
            "[100.24800782 101.14399591 100.2563198  100.12400391 101.1489883\n",
            " 100.17729229  71.16888714  71.24791465 111.04987562 110.06986763\n",
            " 110.31705055 101.10815639 100.13231589 101.22302342  71.24791465\n",
            "  91.07827278 100.16898031 102.083172   101.09485202 110.07486002]\n"
          ],
          "name": "stdout"
        }
      ]
    },
    {
      "cell_type": "code",
      "metadata": {
        "id": "LyELIFvLXtZV",
        "colab": {
          "base_uri": "https://localhost:8080/",
          "height": 561
        },
        "outputId": "cd99d5fc-3b48-41dc-d416-ee93a882fbd1"
      },
      "source": [
        "# for run in range(2):\n",
        "#   print(\"running ke -\", run+1)\n",
        "#   PCX = 0.6\n",
        "#   Pm = 0.5\n",
        "#   ukuranPopulasi = 10\n",
        "#   max_generasi = 20\n",
        "\n",
        "#   # Inisialisasi populasi \n",
        "\n",
        "#   P = initPopulasi (ukuranPopulasi,jumlahKota)\n",
        "#   #print(\"P0 :\",P)\n",
        "\n",
        "#   #melakukan evaluasi P\n",
        "#   fitP = fungsiObjectif(P,daftarKota)\n",
        "#   print(\"fitness populasi awal:\",fitP)\n",
        "\n",
        "#   print(\"fitness terbaik awal:\",fitP.min())\n",
        "#   print(\"rute awal :\",P[fitP.argmin()])\n",
        "\n",
        "\n",
        "#   for i in range(max_generasi):\n",
        "#     #print(\"generasi :\",i)\n",
        "#     Induk = seleksi(P,fitP)\n",
        "#     #print(\"Induk :\",Induk)\n",
        "\n",
        "#     Anak = Induk\n",
        "\n",
        "#     rxo = random.random()\n",
        "\n",
        "#     if rxo < PCX:\n",
        "#       Anak = PMX(Induk)\n",
        "#       #print(\"AnakXO :\",Anak)\n",
        "\n",
        "#       rm = random.random()\n",
        "#       if rm < Pm:\n",
        "#         Anak = MutasiSwap(Anak)\n",
        "#         #print(\"AnakR :\",Anak)\n",
        "\n",
        "#     fitAnak = fungsiObjectif(Anak,daftarKota)\n",
        "#     #print(\"fitAnak :\",fitAnak)\n",
        "\n",
        "#     #print(\"fitness:\",fitAnak.min())\n",
        "\n",
        "#     [P, fitP] = Elitism (P,Anak,fitP,fitAnak)    \n",
        "#   print(\"fitness populasi akhir:\",fitP)\n",
        "#   print(\"fitness akhir:\",fitP.min())\n",
        "#   print(\"rute akhir :\",P[fitP.argmin()])\n",
        "\n",
        "# Inisialisasi paramater\n",
        "PCX = 0.7\n",
        "Pm = 0.01\n",
        "ukuranPopulasi = 20\n",
        "max_generasi = 500\n",
        "\n",
        "# Inisialisasi populasi \n",
        "\n",
        "P = initPopulasi (ukuranPopulasi,jumlahKota)\n",
        "print(\"P0 :\",P)\n",
        "\n",
        "#melakukan evaluasi P\n",
        "fitP = fungsiObjectif(P,daftarKota)\n",
        "print(\"fitness populasi awal:\",fitP)\n",
        "\n",
        "print(\"fitness terbaik awal:\",fitP.min())\n",
        "print(\"rute awal :\",P[fitP.argmin()])\n",
        "\n",
        "\n",
        "for i in range(max_generasi):\n",
        "  #print(\"generasi :\",i)\n",
        "  Induk = seleksi(P,fitP)\n",
        "  #print(\"Induk :\",Induk)\n",
        "\n",
        "  Anak = Induk\n",
        "\n",
        "  rxo = random.random()\n",
        "\n",
        "  if rxo < PCX:\n",
        "    Anak = PMX(Induk)\n",
        "    #print(\"AnakXO :\",Anak)\n",
        "\n",
        "    rm = random.random()\n",
        "    if rm < Pm:\n",
        "      Anak = MutasiSwap(Anak)\n",
        "      #print(\"AnakR :\",Anak)\n",
        "\n",
        "  fitAnak = fungsiObjectif(Anak,daftarKota)\n",
        "  #print(\"fitAnak :\",fitAnak)\n",
        "\n",
        "  #print(\"fitness:\",fitAnak.min())\n",
        "\n",
        "  [P, fitP]= Elitism (P,Anak,fitP,fitAnak)   \n",
        "  \n",
        "print(\"fitness populasi akhir:\",fitP)\n",
        "print(\"fitness akhir:\",fitP.min())\n",
        "print(\"rute akhir :\",P[fitP.argmin()])"
      ],
      "execution_count": null,
      "outputs": [
        {
          "output_type": "stream",
          "text": [
            "P0 : [[6 0 1 2 3 5 4]\n",
            " [5 4 0 2 3 6 1]\n",
            " [6 5 2 4 0 1 3]\n",
            " [2 1 6 5 4 0 3]\n",
            " [2 1 4 5 3 6 0]\n",
            " [1 2 0 4 6 3 5]\n",
            " [5 0 2 1 6 3 4]\n",
            " [0 3 2 4 5 1 6]\n",
            " [4 1 2 6 3 0 5]\n",
            " [5 2 1 3 0 6 4]\n",
            " [6 3 5 4 2 1 0]\n",
            " [5 4 2 0 6 1 3]\n",
            " [5 3 2 1 0 6 4]\n",
            " [3 6 4 1 5 0 2]\n",
            " [4 2 1 0 3 6 5]\n",
            " [0 6 1 5 3 4 2]\n",
            " [5 2 6 3 0 1 4]\n",
            " [0 6 3 2 1 5 4]\n",
            " [6 5 0 4 1 3 2]\n",
            " [0 2 6 4 5 1 3]]\n",
            "fitness populasi awal: [ 70.07486002  61.23133541 110.11901152  60.24800782 101.10815639\n",
            " 101.15730029 100.2563198   61.17387953 101.1489883  100.11983642\n",
            " 110.07486002 100.20218352  70.07486002  62.13231589 100.04996879\n",
            " 101.18219151 101.02498439  71.17387953  71.21803103  91.07827278]\n",
            "fitness terbaik awal: 60.24800781618714\n",
            "rute awal : [2 1 6 5 4 0 3]\n",
            "fitness populasi akhir: [50.12400391 50.12400391 50.12400391 50.12400391 50.12400391 50.12400391\n",
            " 50.12400391 50.12400391 50.12400391 50.12400391 50.12400391 50.12400391\n",
            " 50.12400391 50.12400391 50.12400391 50.12400391 50.12400391 50.12400391\n",
            " 50.12400391 50.12400391]\n",
            "fitness akhir: 50.12400390809357\n",
            "rute akhir : [2 1 6 5 4 5 2]\n"
          ],
          "name": "stdout"
        }
      ]
    },
    {
      "cell_type": "code",
      "metadata": {
        "id": "PO0I5lzIBeTW"
      },
      "source": [
        ""
      ],
      "execution_count": null,
      "outputs": []
    }
  ]
}